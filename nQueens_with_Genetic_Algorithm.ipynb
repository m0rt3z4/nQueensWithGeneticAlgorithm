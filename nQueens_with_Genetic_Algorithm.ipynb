{
  "nbformat": 4,
  "nbformat_minor": 0,
  "metadata": {
    "colab": {
      "name": "nQueens with Genetic Algorithm.ipynb",
      "provenance": [],
      "collapsed_sections": [],
      "authorship_tag": "ABX9TyOY30tow8KvNIiGxmvYDITL",
      "include_colab_link": true
    },
    "kernelspec": {
      "name": "python3",
      "display_name": "Python 3"
    },
    "language_info": {
      "name": "python"
    }
  },
  "cells": [
    {
      "cell_type": "markdown",
      "metadata": {
        "id": "view-in-github",
        "colab_type": "text"
      },
      "source": [
        "<a href=\"https://colab.research.google.com/github/m0rt3z4/nQueensWithGeneticAlgorithm/blob/main/nQueens_with_Genetic_Algorithm.ipynb\" target=\"_parent\"><img src=\"https://colab.research.google.com/assets/colab-badge.svg\" alt=\"Open In Colab\"/></a>"
      ]
    },
    {
      "cell_type": "markdown",
      "metadata": {
        "id": "eX-127bOIT_O"
      },
      "source": [
        "# Import Required Libraries "
      ]
    },
    {
      "cell_type": "code",
      "metadata": {
        "id": "_iz8ufSbloeD"
      },
      "source": [
        "from datetime import datetime\n",
        "from collections import namedtuple\n",
        "import numpy as np\n",
        "import matplotlib.pyplot as plt\n",
        "%matplotlib inline"
      ],
      "execution_count": 1,
      "outputs": []
    },
    {
      "cell_type": "markdown",
      "metadata": {
        "id": "xVs_nhCJH73b"
      },
      "source": [
        "# Start Measuring Execution Time\n",
        " "
      ]
    },
    {
      "cell_type": "code",
      "metadata": {
        "id": "2nQwSSZcl6j6"
      },
      "source": [
        "start_time = datetime.now()"
      ],
      "execution_count": 2,
      "outputs": []
    },
    {
      "cell_type": "markdown",
      "metadata": {
        "id": "AHu7CSr9INPV"
      },
      "source": [
        "# Setup Algorithm Parameters"
      ]
    },
    {
      "cell_type": "code",
      "metadata": {
        "id": "EVQN8wq3kMmT"
      },
      "source": [
        "n_queens = 8\n",
        "n_population = 10\n",
        "max_iteration = 5000\n",
        "cross_over_percent = 0.7\n",
        "mutation_percent = 0.2"
      ],
      "execution_count": 3,
      "outputs": []
    },
    {
      "cell_type": "markdown",
      "metadata": {
        "id": "1O3FKU6BI7kX"
      },
      "source": [
        "# Initialize Variables"
      ]
    },
    {
      "cell_type": "code",
      "metadata": {
        "id": "aDufq8wMI8Ho"
      },
      "source": [
        "n_cross_over = 2 * round(n_population * cross_over_percent / 2)\n",
        "n_mutation = round(n_population * mutation_percent)\n",
        "n_reproduction = n_population - n_cross_over - n_mutation"
      ],
      "execution_count": 4,
      "outputs": []
    },
    {
      "cell_type": "markdown",
      "metadata": {
        "id": "MCsx4yLuI-DB"
      },
      "source": [
        "# Define Algorithm Containers"
      ]
    },
    {
      "cell_type": "code",
      "metadata": {
        "id": "rXfFvvHrI-bR"
      },
      "source": [
        "population = []\n",
        "cross_over_population = []\n",
        "mutation_population = []\n",
        "reproduction_population = []"
      ],
      "execution_count": 5,
      "outputs": []
    },
    {
      "cell_type": "markdown",
      "metadata": {
        "id": "1xfldAGRJC5d"
      },
      "source": [
        "# Define Plot Containers"
      ]
    },
    {
      "cell_type": "code",
      "metadata": {
        "id": "dmuBD3HuJEal"
      },
      "source": [
        "best_individuals_cost = []\n",
        "average_individuals_cost= []"
      ],
      "execution_count": 6,
      "outputs": []
    },
    {
      "cell_type": "markdown",
      "metadata": {
        "id": "IeBbGE71JE--"
      },
      "source": [
        "# Evaluation Function"
      ]
    },
    {
      "cell_type": "code",
      "metadata": {
        "id": "BlljHdn6xXMo"
      },
      "source": [
        "def evaluate(chromosome):\n",
        "  cost = 0\n",
        "  for i in range(0, len(chromosome) - 1):\n",
        "    for j in range(i + 1, len(chromosome)):\n",
        "      if abs(i - j) == abs(chromosome[i] - chromosome[j]):\n",
        "        cost += 1        \n",
        "  return cost"
      ],
      "execution_count": 7,
      "outputs": []
    },
    {
      "cell_type": "markdown",
      "metadata": {
        "id": "BaMZwdHLJ1WT"
      },
      "source": [
        "# Unique The Union Of Two Sets "
      ]
    },
    {
      "cell_type": "code",
      "metadata": {
        "id": "DlK5sfw9mtQG"
      },
      "source": [
        "def unique_union(first, second):\n",
        "  union = np.concatenate([first, second])\n",
        "  _, unique_index = np.unique(union, return_index=True)\n",
        "  return union[np.sort(unique_index)]"
      ],
      "execution_count": 8,
      "outputs": []
    },
    {
      "cell_type": "markdown",
      "metadata": {
        "id": "_SHGrsUkKAwC"
      },
      "source": [
        "# CrossOver Function"
      ]
    },
    {
      "cell_type": "code",
      "metadata": {
        "id": "Na8zVAF98kDz"
      },
      "source": [
        "def fill_cross_over_population(population, cross_over_population, n_cross_over):\n",
        "  fitness = [1 / individual.cost for individual in population]\n",
        "  probability_of_fitness = [element / sum(fitness) for element in fitness]\n",
        "  cumsum_fitness = np.cumsum(probability_of_fitness)\n",
        "  for i in range(0, n_cross_over, 2):\n",
        "    first_random_fitness, second_random_fitness = np.random.rand(), np.random.rand()\n",
        "    while first_random_fitness == second_random_fitness: second_random_fitness = np.random.rand()\n",
        "    first_parent_position = np.where(first_random_fitness <= cumsum_fitness)[0][0]\n",
        "    second_parent_position = np.where(second_random_fitness <= cumsum_fitness)[0][0]\n",
        "\n",
        "    first_parent = population[first_parent_position].chromosome\n",
        "    second_parent = population[second_parent_position].chromosome\n",
        "\n",
        "    chromosome_length = len(first_parent)\n",
        "    intersectionـpoint = np.random.randint(chromosome_length)\n",
        "\n",
        "    first_offspring = np.concatenate([first_parent[:intersectionـpoint], second_parent[intersectionـpoint:]])\n",
        "    second_offspring = np.concatenate([second_parent[:intersectionـpoint], first_parent[intersectionـpoint:]])\n",
        "\n",
        "    first_offspring = unique_union(first_offspring, np.random.permutation(chromosome_length) + 1)\n",
        "    second_offspring = unique_union(second_offspring, np.random.permutation(chromosome_length) + 1)\n",
        "\n",
        "    cross_over_population.append(Individual(first_offspring, evaluate(first_offspring))) \n",
        "    cross_over_population.append(Individual(second_offspring, evaluate(second_offspring)))"
      ],
      "execution_count": 9,
      "outputs": []
    },
    {
      "cell_type": "markdown",
      "metadata": {
        "id": "7HRSWcz-KOud"
      },
      "source": [
        "# Mutation Function"
      ]
    },
    {
      "cell_type": "code",
      "metadata": {
        "id": "GxqblZvMskDO"
      },
      "source": [
        "def fill_mutation_population(population, mutation_population, n_mutation):\n",
        "  for i in range(0, n_mutation):\n",
        "    chromosome = population[np.random.randint(len(population))].chromosome\n",
        "    first_index = np.random.randint(len(chromosome)-1)\n",
        "    second_index = np.random.randint(first_index+1, len(chromosome))\n",
        "    chromosome[first_index], chromosome[second_index] = chromosome[second_index], chromosome[first_index]\n",
        "    mutation_population.append(Individual(chromosome, evaluate(chromosome)))"
      ],
      "execution_count": 10,
      "outputs": []
    },
    {
      "cell_type": "markdown",
      "metadata": {
        "id": "3N72pjFRKj61"
      },
      "source": [
        "# Generate First Population"
      ]
    },
    {
      "cell_type": "code",
      "metadata": {
        "id": "rkV7oUaQl577"
      },
      "source": [
        "chromosomes = [np.random.permutation(n_queens) + 1 for i in range(n_population)]\n",
        "Individual = namedtuple('Individual', ['chromosome', 'cost'])\n",
        "population = [Individual(chromosome, evaluate(chromosome)) for chromosome in chromosomes]\n",
        "population = sorted(population, key=lambda individual: individual.cost)"
      ],
      "execution_count": 11,
      "outputs": []
    },
    {
      "cell_type": "markdown",
      "metadata": {
        "id": "Njnf-BO1LF4B"
      },
      "source": [
        "# Main Loop"
      ]
    },
    {
      "cell_type": "code",
      "metadata": {
        "colab": {
          "base_uri": "https://localhost:8080/"
        },
        "id": "c-M2xZGyshMr",
        "outputId": "25a9e55b-34fe-4e15-fcf3-c760a760c7f1"
      },
      "source": [
        "best_individual = population[0]\n",
        "iteration_count = 0\n",
        "while best_individual.cost > 0 and iteration_count <= max_iteration:\n",
        "  iteration_count += 1\n",
        "  cross_over_population = []\n",
        "  fill_cross_over_population(population, cross_over_population, n_cross_over)\n",
        "  mutation_population = []\n",
        "  fill_mutation_population(population, mutation_population, n_mutation)\n",
        "  reproduction_population = [population[index] for index in range(n_reproduction)]\n",
        "  population = reproduction_population + cross_over_population + mutation_population\n",
        "  population = sorted(population, key=lambda individual: individual.cost)\n",
        "  best_individual = population[0]\n",
        "  best_individuals_cost.append(best_individual.cost)\n",
        "  average_individuals_cost.append(np.mean([individual.cost for individual in population]))\n",
        "  print(f'Best individual in iteration#{iteration_count:03d} is {best_individual.chromosome} with cost {best_individual.cost}')"
      ],
      "execution_count": 12,
      "outputs": [
        {
          "output_type": "stream",
          "name": "stdout",
          "text": [
            "Best individual in iteration#001 is [5 4 2 1 8 6 3 7] with cost 3\n",
            "Best individual in iteration#002 is [7 4 2 1 8 6 5 3] with cost 2\n",
            "Best individual in iteration#003 is [7 4 2 1 8 6 5 3] with cost 2\n",
            "Best individual in iteration#004 is [7 4 2 1 8 6 5 3] with cost 2\n",
            "Best individual in iteration#005 is [7 4 2 3 8 6 5 1] with cost 2\n",
            "Best individual in iteration#006 is [3 4 8 1 5 6 2 7] with cost 2\n",
            "Best individual in iteration#007 is [6 4 2 8 5 3 1 7] with cost 1\n",
            "Best individual in iteration#008 is [6 4 2 8 5 3 1 7] with cost 1\n",
            "Best individual in iteration#009 is [6 4 1 8 5 3 2 7] with cost 1\n",
            "Best individual in iteration#010 is [7 4 2 8 5 3 1 6] with cost 1\n",
            "Best individual in iteration#011 is [6 4 1 8 5 3 2 7] with cost 1\n",
            "Best individual in iteration#012 is [7 4 2 8 5 3 1 6] with cost 1\n",
            "Best individual in iteration#013 is [7 4 2 8 5 3 1 6] with cost 1\n",
            "Best individual in iteration#014 is [7 4 2 8 5 1 3 6] with cost 1\n",
            "Best individual in iteration#015 is [7 4 1 8 5 3 6 2] with cost 1\n",
            "Best individual in iteration#016 is [7 4 2 8 5 3 1 6] with cost 1\n",
            "Best individual in iteration#017 is [7 4 1 8 5 3 6 2] with cost 1\n",
            "Best individual in iteration#018 is [7 4 1 8 5 3 6 2] with cost 1\n",
            "Best individual in iteration#019 is [7 4 1 8 5 3 6 2] with cost 1\n",
            "Best individual in iteration#020 is [7 4 2 8 5 3 1 6] with cost 1\n",
            "Best individual in iteration#021 is [7 4 1 8 5 3 6 2] with cost 1\n",
            "Best individual in iteration#022 is [7 4 1 8 5 3 6 2] with cost 1\n",
            "Best individual in iteration#023 is [5 8 1 3 6 2 7 4] with cost 1\n",
            "Best individual in iteration#024 is [7 4 1 8 5 3 6 2] with cost 1\n",
            "Best individual in iteration#025 is [7 4 1 8 5 3 6 2] with cost 1\n",
            "Best individual in iteration#026 is [7 4 1 8 5 2 6 3] with cost 1\n",
            "Best individual in iteration#027 is [7 4 1 8 5 2 6 3] with cost 1\n",
            "Best individual in iteration#028 is [7 4 1 8 5 3 6 2] with cost 1\n",
            "Best individual in iteration#029 is [7 4 1 8 5 2 6 3] with cost 1\n",
            "Best individual in iteration#030 is [7 4 1 8 5 2 6 3] with cost 1\n",
            "Best individual in iteration#031 is [7 4 1 8 5 2 6 3] with cost 1\n",
            "Best individual in iteration#032 is [7 4 1 8 5 2 6 3] with cost 1\n",
            "Best individual in iteration#033 is [8 4 1 5 2 6 3 7] with cost 1\n",
            "Best individual in iteration#034 is [8 4 1 5 2 6 3 7] with cost 1\n",
            "Best individual in iteration#035 is [7 4 1 5 2 6 3 8] with cost 1\n",
            "Best individual in iteration#036 is [8 4 1 5 2 6 3 7] with cost 1\n",
            "Best individual in iteration#037 is [8 4 1 5 2 6 3 7] with cost 1\n",
            "Best individual in iteration#038 is [8 4 1 5 2 6 3 7] with cost 1\n",
            "Best individual in iteration#039 is [8 4 1 5 2 6 3 7] with cost 1\n",
            "Best individual in iteration#040 is [8 4 1 5 2 6 3 7] with cost 1\n",
            "Best individual in iteration#041 is [8 4 1 5 2 6 3 7] with cost 1\n",
            "Best individual in iteration#042 is [8 4 1 5 2 6 3 7] with cost 1\n",
            "Best individual in iteration#043 is [8 4 1 5 2 6 3 7] with cost 1\n",
            "Best individual in iteration#044 is [8 4 1 5 2 6 3 7] with cost 1\n",
            "Best individual in iteration#045 is [8 4 1 5 2 6 3 7] with cost 1\n",
            "Best individual in iteration#046 is [8 4 1 5 2 6 3 7] with cost 1\n",
            "Best individual in iteration#047 is [8 4 1 5 2 6 3 7] with cost 1\n",
            "Best individual in iteration#048 is [8 4 1 7 2 6 3 5] with cost 1\n",
            "Best individual in iteration#049 is [8 4 1 5 2 6 3 7] with cost 1\n",
            "Best individual in iteration#050 is [8 4 1 5 2 6 3 7] with cost 1\n",
            "Best individual in iteration#051 is [8 4 1 5 2 6 3 7] with cost 1\n",
            "Best individual in iteration#052 is [8 4 1 5 2 6 3 7] with cost 1\n",
            "Best individual in iteration#053 is [8 4 1 5 2 6 3 7] with cost 1\n",
            "Best individual in iteration#054 is [8 4 1 5 2 6 3 7] with cost 1\n",
            "Best individual in iteration#055 is [8 4 1 5 2 6 3 7] with cost 1\n",
            "Best individual in iteration#056 is [8 4 1 5 2 6 3 7] with cost 1\n",
            "Best individual in iteration#057 is [8 4 1 5 2 6 3 7] with cost 1\n",
            "Best individual in iteration#058 is [8 4 1 5 2 6 3 7] with cost 1\n",
            "Best individual in iteration#059 is [8 4 1 5 2 6 3 7] with cost 1\n",
            "Best individual in iteration#060 is [8 4 1 5 2 6 3 7] with cost 1\n",
            "Best individual in iteration#061 is [8 4 1 5 2 6 3 7] with cost 1\n",
            "Best individual in iteration#062 is [8 4 1 5 2 6 3 7] with cost 1\n",
            "Best individual in iteration#063 is [2 4 5 1 8 6 3 7] with cost 1\n",
            "Best individual in iteration#064 is [2 4 5 1 8 6 3 7] with cost 1\n",
            "Best individual in iteration#065 is [8 4 1 5 2 6 3 7] with cost 1\n",
            "Best individual in iteration#066 is [2 4 1 5 8 6 3 7] with cost 1\n",
            "Best individual in iteration#067 is [8 4 1 5 2 6 3 7] with cost 1\n",
            "Best individual in iteration#068 is [8 4 1 5 2 6 3 7] with cost 1\n",
            "Best individual in iteration#069 is [8 4 1 5 2 6 3 7] with cost 1\n",
            "Best individual in iteration#070 is [2 3 1 6 8 5 7 4] with cost 1\n",
            "Best individual in iteration#071 is [2 3 1 6 8 5 7 4] with cost 1\n",
            "Best individual in iteration#072 is [8 4 1 5 2 6 3 7] with cost 1\n",
            "Best individual in iteration#073 is [8 4 1 5 2 6 3 7] with cost 1\n",
            "Best individual in iteration#074 is [8 4 1 5 2 6 3 7] with cost 1\n",
            "Best individual in iteration#075 is [8 4 1 5 2 6 3 7] with cost 1\n",
            "Best individual in iteration#076 is [8 4 1 5 2 6 3 7] with cost 1\n",
            "Best individual in iteration#077 is [8 4 1 5 2 6 3 7] with cost 1\n",
            "Best individual in iteration#078 is [8 4 1 5 2 6 3 7] with cost 1\n",
            "Best individual in iteration#079 is [8 4 1 5 2 6 3 7] with cost 1\n",
            "Best individual in iteration#080 is [8 4 1 5 2 6 3 7] with cost 1\n",
            "Best individual in iteration#081 is [8 4 1 5 2 6 3 7] with cost 1\n",
            "Best individual in iteration#082 is [8 4 1 5 2 6 3 7] with cost 1\n",
            "Best individual in iteration#083 is [8 4 1 5 2 6 3 7] with cost 1\n",
            "Best individual in iteration#084 is [8 4 1 5 2 6 3 7] with cost 1\n",
            "Best individual in iteration#085 is [8 4 1 5 2 6 3 7] with cost 1\n",
            "Best individual in iteration#086 is [8 4 1 5 2 6 3 7] with cost 1\n",
            "Best individual in iteration#087 is [8 4 1 5 2 6 3 7] with cost 1\n",
            "Best individual in iteration#088 is [8 4 1 5 2 6 3 7] with cost 1\n",
            "Best individual in iteration#089 is [8 4 1 5 2 6 3 7] with cost 1\n",
            "Best individual in iteration#090 is [8 4 1 5 2 6 3 7] with cost 1\n",
            "Best individual in iteration#091 is [8 4 1 5 2 6 3 7] with cost 1\n",
            "Best individual in iteration#092 is [8 4 1 5 2 6 3 7] with cost 1\n",
            "Best individual in iteration#093 is [8 4 1 5 2 6 3 7] with cost 1\n",
            "Best individual in iteration#094 is [8 4 1 5 2 6 3 7] with cost 1\n",
            "Best individual in iteration#095 is [8 4 1 5 2 6 3 7] with cost 1\n",
            "Best individual in iteration#096 is [8 4 1 5 2 6 3 7] with cost 1\n",
            "Best individual in iteration#097 is [8 4 1 5 2 6 3 7] with cost 1\n",
            "Best individual in iteration#098 is [8 4 1 5 2 6 3 7] with cost 1\n",
            "Best individual in iteration#099 is [8 4 1 5 2 6 3 7] with cost 1\n",
            "Best individual in iteration#100 is [8 4 1 5 2 6 3 7] with cost 1\n",
            "Best individual in iteration#101 is [8 4 1 5 2 6 3 7] with cost 1\n",
            "Best individual in iteration#102 is [7 4 1 5 2 6 3 8] with cost 1\n",
            "Best individual in iteration#103 is [8 4 1 5 2 6 3 7] with cost 1\n",
            "Best individual in iteration#104 is [8 4 1 5 2 6 3 7] with cost 1\n",
            "Best individual in iteration#105 is [8 4 1 5 2 6 3 7] with cost 1\n",
            "Best individual in iteration#106 is [8 4 1 5 2 6 3 7] with cost 1\n",
            "Best individual in iteration#107 is [8 4 1 5 2 6 3 7] with cost 1\n",
            "Best individual in iteration#108 is [8 4 1 5 2 6 3 7] with cost 1\n",
            "Best individual in iteration#109 is [8 4 1 5 2 6 3 7] with cost 1\n",
            "Best individual in iteration#110 is [8 4 1 5 2 6 3 7] with cost 1\n",
            "Best individual in iteration#111 is [8 4 1 5 2 6 3 7] with cost 1\n",
            "Best individual in iteration#112 is [8 4 1 5 2 6 3 7] with cost 1\n",
            "Best individual in iteration#113 is [8 4 1 5 2 6 3 7] with cost 1\n",
            "Best individual in iteration#114 is [8 4 1 5 2 6 3 7] with cost 1\n",
            "Best individual in iteration#115 is [7 4 8 5 2 6 3 1] with cost 1\n",
            "Best individual in iteration#116 is [8 4 1 5 2 6 3 7] with cost 1\n",
            "Best individual in iteration#117 is [8 4 1 5 2 6 3 7] with cost 1\n",
            "Best individual in iteration#118 is [8 4 1 5 2 6 3 7] with cost 1\n",
            "Best individual in iteration#119 is [8 4 1 5 2 6 3 7] with cost 1\n",
            "Best individual in iteration#120 is [8 4 1 5 2 6 3 7] with cost 1\n",
            "Best individual in iteration#121 is [8 4 1 5 2 6 3 7] with cost 1\n",
            "Best individual in iteration#122 is [8 4 1 5 2 6 3 7] with cost 1\n",
            "Best individual in iteration#123 is [8 4 1 5 2 6 3 7] with cost 1\n",
            "Best individual in iteration#124 is [8 4 1 5 2 6 3 7] with cost 1\n",
            "Best individual in iteration#125 is [8 4 1 5 2 6 3 7] with cost 1\n",
            "Best individual in iteration#126 is [8 4 1 5 2 6 3 7] with cost 1\n",
            "Best individual in iteration#127 is [8 4 1 5 2 6 3 7] with cost 1\n",
            "Best individual in iteration#128 is [8 4 1 5 2 6 3 7] with cost 1\n",
            "Best individual in iteration#129 is [8 4 1 5 2 6 3 7] with cost 1\n",
            "Best individual in iteration#130 is [4 8 1 5 2 6 3 7] with cost 1\n",
            "Best individual in iteration#131 is [4 1 5 2 6 3 7 8] with cost 1\n",
            "Best individual in iteration#132 is [4 8 1 5 2 6 7 3] with cost 1\n",
            "Best individual in iteration#133 is [4 8 1 5 2 6 3 7] with cost 1\n",
            "Best individual in iteration#134 is [4 8 1 5 2 6 3 7] with cost 1\n",
            "Best individual in iteration#135 is [4 8 1 5 2 6 3 7] with cost 1\n",
            "Best individual in iteration#136 is [4 8 1 5 2 6 7 3] with cost 1\n",
            "Best individual in iteration#137 is [4 8 1 5 2 6 7 3] with cost 1\n",
            "Best individual in iteration#138 is [4 8 1 5 2 6 7 3] with cost 1\n",
            "Best individual in iteration#139 is [4 8 1 5 2 6 7 3] with cost 1\n",
            "Best individual in iteration#140 is [4 8 1 5 2 6 7 3] with cost 1\n",
            "Best individual in iteration#141 is [4 8 1 5 2 6 7 3] with cost 1\n",
            "Best individual in iteration#142 is [4 8 1 5 2 6 3 7] with cost 1\n",
            "Best individual in iteration#143 is [4 8 1 5 2 6 7 3] with cost 1\n",
            "Best individual in iteration#144 is [4 8 1 5 2 6 7 3] with cost 1\n",
            "Best individual in iteration#145 is [4 8 1 5 2 6 7 3] with cost 1\n",
            "Best individual in iteration#146 is [4 8 1 5 2 6 7 3] with cost 1\n",
            "Best individual in iteration#147 is [4 8 1 5 2 6 7 3] with cost 1\n",
            "Best individual in iteration#148 is [4 8 1 5 2 6 7 3] with cost 1\n",
            "Best individual in iteration#149 is [4 8 1 5 2 6 7 3] with cost 1\n",
            "Best individual in iteration#150 is [4 8 1 5 2 6 7 3] with cost 1\n",
            "Best individual in iteration#151 is [4 8 1 5 2 6 3 7] with cost 1\n",
            "Best individual in iteration#152 is [4 8 1 5 2 6 3 7] with cost 1\n",
            "Best individual in iteration#153 is [4 8 1 5 2 6 3 7] with cost 1\n",
            "Best individual in iteration#154 is [4 8 1 5 2 6 7 3] with cost 1\n",
            "Best individual in iteration#155 is [4 8 1 5 2 6 7 3] with cost 1\n",
            "Best individual in iteration#156 is [4 8 1 5 2 6 7 3] with cost 1\n",
            "Best individual in iteration#157 is [4 8 1 5 2 6 3 7] with cost 1\n",
            "Best individual in iteration#158 is [4 8 1 5 2 6 7 3] with cost 1\n",
            "Best individual in iteration#159 is [4 8 1 5 2 6 7 3] with cost 1\n",
            "Best individual in iteration#160 is [4 8 1 5 2 6 7 3] with cost 1\n",
            "Best individual in iteration#161 is [4 8 1 5 2 6 7 3] with cost 1\n",
            "Best individual in iteration#162 is [4 1 5 2 6 7 3 8] with cost 1\n",
            "Best individual in iteration#163 is [4 1 5 2 6 3 7 8] with cost 1\n",
            "Best individual in iteration#164 is [4 8 1 5 2 6 7 3] with cost 1\n",
            "Best individual in iteration#165 is [4 8 1 5 2 6 7 3] with cost 1\n",
            "Best individual in iteration#166 is [4 8 1 5 2 6 7 3] with cost 1\n",
            "Best individual in iteration#167 is [4 8 1 5 2 6 7 3] with cost 1\n",
            "Best individual in iteration#168 is [4 8 1 5 2 6 7 3] with cost 1\n",
            "Best individual in iteration#169 is [4 8 1 5 2 6 7 3] with cost 1\n",
            "Best individual in iteration#170 is [4 8 1 5 2 6 7 3] with cost 1\n",
            "Best individual in iteration#171 is [4 8 1 5 2 6 7 3] with cost 1\n",
            "Best individual in iteration#172 is [4 8 1 5 2 6 7 3] with cost 1\n",
            "Best individual in iteration#173 is [4 8 1 5 2 6 7 3] with cost 1\n",
            "Best individual in iteration#174 is [4 8 1 5 7 2 6 3] with cost 0\n"
          ]
        }
      ]
    },
    {
      "cell_type": "markdown",
      "metadata": {
        "id": "-6MiKINrLRKV"
      },
      "source": [
        "# Plot Best Cost & Mean Cost"
      ]
    },
    {
      "cell_type": "code",
      "metadata": {
        "colab": {
          "base_uri": "https://localhost:8080/",
          "height": 497
        },
        "id": "M6iI5BU8A9Uh",
        "outputId": "07f23369-4bf0-4d29-ed49-1a0d5c862319"
      },
      "source": [
        "plt.figure(figsize=[10, 8])\n",
        "plt.xlabel(\"Iteration\");\n",
        "plt.ylabel(\"Cost\");\n",
        "\n",
        "plt.plot(np.arange(0, len(best_individuals_cost)), best_individuals_cost, label='Best');\n",
        "plt.plot(np.arange(0, len(average_individuals_cost)), average_individuals_cost, label='Mean');\n",
        "plt.legend();"
      ],
      "execution_count": 13,
      "outputs": [
        {
          "output_type": "display_data",
          "data": {
            "image/png": "[encoded data removed]",
            "text/plain": [
              "<Figure size 720x576 with 1 Axes>"
            ]
          },
          "metadata": {
            "needs_background": "light"
          }
        }
      ]
    },
    {
      "cell_type": "markdown",
      "metadata": {
        "id": "T3DQecUNLn2P"
      },
      "source": [
        "# Algorithm Execution Time"
      ]
    },
    {
      "cell_type": "code",
      "metadata": {
        "colab": {
          "base_uri": "https://localhost:8080/"
        },
        "id": "Uvqxo_iqlRFU",
        "outputId": "272e9e4e-332a-44fb-bbe8-154739346574"
      },
      "source": [
        "end_time = datetime.now() - start_time\n",
        "print(f'Elapsed Time {end_time}')"
      ],
      "execution_count": 14,
      "outputs": [
        {
          "output_type": "stream",
          "name": "stdout",
          "text": [
            "Elapsed Time 0:00:00.755207\n"
          ]
        }
      ]
    }
  ]
}